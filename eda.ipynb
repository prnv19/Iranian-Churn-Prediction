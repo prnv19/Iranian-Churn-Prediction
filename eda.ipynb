{
 "cells": [
  {
   "cell_type": "code",
   "execution_count": null,
   "metadata": {
    "vscode": {
     "languageId": "r"
    }
   },
   "outputs": [],
   "source": [
    "library(tidyverse) # For data manipulation and visualization\n",
    "library(ggplot2)   # For visualizations\n",
    "library(summarytools) # For detailed statistics\n",
    "library(corrplot)  # For correlation plots\n",
    "library(gridExtra) # For combining ggplots"
   ]
  },
  {
   "cell_type": "code",
   "execution_count": 4,
   "metadata": {
    "vscode": {
     "languageId": "r"
    }
   },
   "outputs": [
    {
     "data": {
      "text/html": [
       "<table class=\"dataframe\">\n",
       "<caption>A data.frame: 6 × 14</caption>\n",
       "<thead>\n",
       "\t<tr><th></th><th scope=col>Call..Failure</th><th scope=col>Complains</th><th scope=col>Subscription..Length</th><th scope=col>Charge..Amount</th><th scope=col>Seconds.of.Use</th><th scope=col>Frequency.of.use</th><th scope=col>Frequency.of.SMS</th><th scope=col>Distinct.Called.Numbers</th><th scope=col>Age.Group</th><th scope=col>Tariff.Plan</th><th scope=col>Status</th><th scope=col>Age</th><th scope=col>Customer.Value</th><th scope=col>Churn</th></tr>\n",
       "\t<tr><th></th><th scope=col>&lt;int&gt;</th><th scope=col>&lt;int&gt;</th><th scope=col>&lt;int&gt;</th><th scope=col>&lt;int&gt;</th><th scope=col>&lt;int&gt;</th><th scope=col>&lt;int&gt;</th><th scope=col>&lt;int&gt;</th><th scope=col>&lt;int&gt;</th><th scope=col>&lt;int&gt;</th><th scope=col>&lt;int&gt;</th><th scope=col>&lt;int&gt;</th><th scope=col>&lt;int&gt;</th><th scope=col>&lt;dbl&gt;</th><th scope=col>&lt;int&gt;</th></tr>\n",
       "</thead>\n",
       "<tbody>\n",
       "\t<tr><th scope=row>1</th><td> 8</td><td>0</td><td>38</td><td>0</td><td>4370</td><td>71</td><td>  5</td><td>17</td><td>3</td><td>1</td><td>1</td><td>30</td><td> 197.640</td><td>0</td></tr>\n",
       "\t<tr><th scope=row>2</th><td> 0</td><td>0</td><td>39</td><td>0</td><td> 318</td><td> 5</td><td>  7</td><td> 4</td><td>2</td><td>1</td><td>2</td><td>25</td><td>  46.035</td><td>0</td></tr>\n",
       "\t<tr><th scope=row>3</th><td>10</td><td>0</td><td>37</td><td>0</td><td>2453</td><td>60</td><td>359</td><td>24</td><td>3</td><td>1</td><td>1</td><td>30</td><td>1536.520</td><td>0</td></tr>\n",
       "\t<tr><th scope=row>4</th><td>10</td><td>0</td><td>38</td><td>0</td><td>4198</td><td>66</td><td>  1</td><td>35</td><td>1</td><td>1</td><td>1</td><td>15</td><td> 240.020</td><td>0</td></tr>\n",
       "\t<tr><th scope=row>5</th><td> 3</td><td>0</td><td>38</td><td>0</td><td>2393</td><td>58</td><td>  2</td><td>33</td><td>1</td><td>1</td><td>1</td><td>15</td><td> 145.805</td><td>0</td></tr>\n",
       "\t<tr><th scope=row>6</th><td>11</td><td>0</td><td>38</td><td>1</td><td>3775</td><td>82</td><td> 32</td><td>28</td><td>3</td><td>1</td><td>1</td><td>30</td><td> 282.280</td><td>0</td></tr>\n",
       "</tbody>\n",
       "</table>\n"
      ],
      "text/latex": [
       "A data.frame: 6 × 14\n",
       "\\begin{tabular}{r|llllllllllllll}\n",
       "  & Call..Failure & Complains & Subscription..Length & Charge..Amount & Seconds.of.Use & Frequency.of.use & Frequency.of.SMS & Distinct.Called.Numbers & Age.Group & Tariff.Plan & Status & Age & Customer.Value & Churn\\\\\n",
       "  & <int> & <int> & <int> & <int> & <int> & <int> & <int> & <int> & <int> & <int> & <int> & <int> & <dbl> & <int>\\\\\n",
       "\\hline\n",
       "\t1 &  8 & 0 & 38 & 0 & 4370 & 71 &   5 & 17 & 3 & 1 & 1 & 30 &  197.640 & 0\\\\\n",
       "\t2 &  0 & 0 & 39 & 0 &  318 &  5 &   7 &  4 & 2 & 1 & 2 & 25 &   46.035 & 0\\\\\n",
       "\t3 & 10 & 0 & 37 & 0 & 2453 & 60 & 359 & 24 & 3 & 1 & 1 & 30 & 1536.520 & 0\\\\\n",
       "\t4 & 10 & 0 & 38 & 0 & 4198 & 66 &   1 & 35 & 1 & 1 & 1 & 15 &  240.020 & 0\\\\\n",
       "\t5 &  3 & 0 & 38 & 0 & 2393 & 58 &   2 & 33 & 1 & 1 & 1 & 15 &  145.805 & 0\\\\\n",
       "\t6 & 11 & 0 & 38 & 1 & 3775 & 82 &  32 & 28 & 3 & 1 & 1 & 30 &  282.280 & 0\\\\\n",
       "\\end{tabular}\n"
      ],
      "text/markdown": [
       "\n",
       "A data.frame: 6 × 14\n",
       "\n",
       "| <!--/--> | Call..Failure &lt;int&gt; | Complains &lt;int&gt; | Subscription..Length &lt;int&gt; | Charge..Amount &lt;int&gt; | Seconds.of.Use &lt;int&gt; | Frequency.of.use &lt;int&gt; | Frequency.of.SMS &lt;int&gt; | Distinct.Called.Numbers &lt;int&gt; | Age.Group &lt;int&gt; | Tariff.Plan &lt;int&gt; | Status &lt;int&gt; | Age &lt;int&gt; | Customer.Value &lt;dbl&gt; | Churn &lt;int&gt; |\n",
       "|---|---|---|---|---|---|---|---|---|---|---|---|---|---|---|\n",
       "| 1 |  8 | 0 | 38 | 0 | 4370 | 71 |   5 | 17 | 3 | 1 | 1 | 30 |  197.640 | 0 |\n",
       "| 2 |  0 | 0 | 39 | 0 |  318 |  5 |   7 |  4 | 2 | 1 | 2 | 25 |   46.035 | 0 |\n",
       "| 3 | 10 | 0 | 37 | 0 | 2453 | 60 | 359 | 24 | 3 | 1 | 1 | 30 | 1536.520 | 0 |\n",
       "| 4 | 10 | 0 | 38 | 0 | 4198 | 66 |   1 | 35 | 1 | 1 | 1 | 15 |  240.020 | 0 |\n",
       "| 5 |  3 | 0 | 38 | 0 | 2393 | 58 |   2 | 33 | 1 | 1 | 1 | 15 |  145.805 | 0 |\n",
       "| 6 | 11 | 0 | 38 | 1 | 3775 | 82 |  32 | 28 | 3 | 1 | 1 | 30 |  282.280 | 0 |\n",
       "\n"
      ],
      "text/plain": [
       "  Call..Failure Complains Subscription..Length Charge..Amount Seconds.of.Use\n",
       "1  8            0         38                   0              4370          \n",
       "2  0            0         39                   0               318          \n",
       "3 10            0         37                   0              2453          \n",
       "4 10            0         38                   0              4198          \n",
       "5  3            0         38                   0              2393          \n",
       "6 11            0         38                   1              3775          \n",
       "  Frequency.of.use Frequency.of.SMS Distinct.Called.Numbers Age.Group\n",
       "1 71                 5              17                      3        \n",
       "2  5                 7               4                      2        \n",
       "3 60               359              24                      3        \n",
       "4 66                 1              35                      1        \n",
       "5 58                 2              33                      1        \n",
       "6 82                32              28                      3        \n",
       "  Tariff.Plan Status Age Customer.Value Churn\n",
       "1 1           1      30   197.640       0    \n",
       "2 1           2      25    46.035       0    \n",
       "3 1           1      30  1536.520       0    \n",
       "4 1           1      15   240.020       0    \n",
       "5 1           1      15   145.805       0    \n",
       "6 1           1      30   282.280       0    "
      ]
     },
     "metadata": {},
     "output_type": "display_data"
    },
    {
     "data": {
      "text/plain": [
       " Call..Failure      Complains       Subscription..Length Charge..Amount   \n",
       " Min.   : 0.000   Min.   :0.00000   Min.   : 3.00        Min.   : 0.0000  \n",
       " 1st Qu.: 1.000   1st Qu.:0.00000   1st Qu.:30.00        1st Qu.: 0.0000  \n",
       " Median : 6.000   Median :0.00000   Median :35.00        Median : 0.0000  \n",
       " Mean   : 7.628   Mean   :0.07651   Mean   :32.54        Mean   : 0.9429  \n",
       " 3rd Qu.:12.000   3rd Qu.:0.00000   3rd Qu.:38.00        3rd Qu.: 1.0000  \n",
       " Max.   :36.000   Max.   :1.00000   Max.   :47.00        Max.   :10.0000  \n",
       " Seconds.of.Use  Frequency.of.use Frequency.of.SMS Distinct.Called.Numbers\n",
       " Min.   :    0   Min.   :  0.00   Min.   :  0.00   Min.   : 0.00          \n",
       " 1st Qu.: 1391   1st Qu.: 27.00   1st Qu.:  6.00   1st Qu.:10.00          \n",
       " Median : 2990   Median : 54.00   Median : 21.00   Median :21.00          \n",
       " Mean   : 4472   Mean   : 69.46   Mean   : 73.17   Mean   :23.51          \n",
       " 3rd Qu.: 6478   3rd Qu.: 95.00   3rd Qu.: 87.00   3rd Qu.:34.00          \n",
       " Max.   :17090   Max.   :255.00   Max.   :522.00   Max.   :97.00          \n",
       "   Age.Group      Tariff.Plan        Status           Age     Customer.Value  \n",
       " Min.   :1.000   Min.   :1.000   Min.   :1.000   Min.   :15   Min.   :   0.0  \n",
       " 1st Qu.:2.000   1st Qu.:1.000   1st Qu.:1.000   1st Qu.:25   1st Qu.: 113.8  \n",
       " Median :3.000   Median :1.000   Median :1.000   Median :30   Median : 228.5  \n",
       " Mean   :2.826   Mean   :1.078   Mean   :1.248   Mean   :31   Mean   : 471.0  \n",
       " 3rd Qu.:3.000   3rd Qu.:1.000   3rd Qu.:1.000   3rd Qu.:30   3rd Qu.: 788.4  \n",
       " Max.   :5.000   Max.   :2.000   Max.   :2.000   Max.   :55   Max.   :2165.3  \n",
       "     Churn       \n",
       " Min.   :0.0000  \n",
       " 1st Qu.:0.0000  \n",
       " Median :0.0000  \n",
       " Mean   :0.1571  \n",
       " 3rd Qu.:0.0000  \n",
       " Max.   :1.0000  "
      ]
     },
     "metadata": {},
     "output_type": "display_data"
    },
    {
     "name": "stdout",
     "output_type": "stream",
     "text": [
      "'data.frame':\t3150 obs. of  14 variables:\n",
      " $ Call..Failure          : int  8 0 10 10 3 11 4 13 7 7 ...\n",
      " $ Complains              : int  0 0 0 0 0 0 0 0 0 0 ...\n",
      " $ Subscription..Length   : int  38 39 37 38 38 38 38 37 38 38 ...\n",
      " $ Charge..Amount         : int  0 0 0 0 0 1 0 2 0 1 ...\n",
      " $ Seconds.of.Use         : int  4370 318 2453 4198 2393 3775 2360 9115 13773 4515 ...\n",
      " $ Frequency.of.use       : int  71 5 60 66 58 82 39 121 169 83 ...\n",
      " $ Frequency.of.SMS       : int  5 7 359 1 2 32 285 144 0 2 ...\n",
      " $ Distinct.Called.Numbers: int  17 4 24 35 33 28 18 43 44 25 ...\n",
      " $ Age.Group              : int  3 2 3 1 1 3 3 3 3 3 ...\n",
      " $ Tariff.Plan            : int  1 1 1 1 1 1 1 1 1 1 ...\n",
      " $ Status                 : int  1 2 1 1 1 1 1 1 1 1 ...\n",
      " $ Age                    : int  30 25 30 15 15 30 30 30 30 30 ...\n",
      " $ Customer.Value         : num  198 46 1537 240 146 ...\n",
      " $ Churn                  : int  0 0 0 0 0 0 0 0 0 0 ...\n"
     ]
    }
   ],
   "source": [
    "#Load the data\n",
    "churn_data = read.csv(\"Dataset/Customer Churn.csv\")\n",
    "head(churn_data)\n",
    "summary(churn_data)\n",
    "str(churn_data)\n"
   ]
  },
  {
   "cell_type": "code",
   "execution_count": null,
   "metadata": {
    "vscode": {
     "languageId": "r"
    }
   },
   "outputs": [],
   "source": []
  }
 ],
 "metadata": {
  "kernelspec": {
   "display_name": "R",
   "language": "R",
   "name": "ir"
  },
  "language_info": {
   "codemirror_mode": "r",
   "file_extension": ".r",
   "mimetype": "text/x-r-source",
   "name": "R",
   "pygments_lexer": "r",
   "version": "4.4.1"
  }
 },
 "nbformat": 4,
 "nbformat_minor": 2
}
